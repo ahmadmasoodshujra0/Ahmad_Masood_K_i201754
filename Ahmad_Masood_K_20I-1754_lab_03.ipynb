{
 "cells": [
  {
   "cell_type": "markdown",
   "id": "8893f0c8",
   "metadata": {},
   "source": [
    "# Ahmad Masood\n",
    "# 20I-1754\n",
    "# AI-K\n",
    "# ML Lab 03"
   ]
  },
  {
   "cell_type": "code",
   "execution_count": 131,
   "id": "5d52ea2e",
   "metadata": {},
   "outputs": [],
   "source": [
    "import numpy as np\n",
    "import pandas as pd\n",
    "import matplotlib.pyplot as plt"
   ]
  },
  {
   "cell_type": "markdown",
   "id": "3dc07902",
   "metadata": {},
   "source": [
    "## Orthognal Vector"
   ]
  },
  {
   "cell_type": "code",
   "execution_count": 132,
   "id": "26d26445",
   "metadata": {},
   "outputs": [],
   "source": [
    "rand_vector=np.random.randint(1, 5, size=(1, 2))[0]"
   ]
  },
  {
   "cell_type": "code",
   "execution_count": 133,
   "id": "995d7309",
   "metadata": {},
   "outputs": [
    {
     "data": {
      "text/plain": [
       "array([3, 3])"
      ]
     },
     "execution_count": 133,
     "metadata": {},
     "output_type": "execute_result"
    }
   ],
   "source": [
    "rand_vector"
   ]
  },
  {
   "cell_type": "code",
   "execution_count": 134,
   "id": "f9533b42",
   "metadata": {},
   "outputs": [],
   "source": [
    "rand_vector_orthogonal=np.flip(rand_vector)\n",
    "rand_vector_orthogonal=[[rand_vector_orthogonal[0]*-1,rand_vector_orthogonal[1]]]"
   ]
  },
  {
   "cell_type": "code",
   "execution_count": 135,
   "id": "b22ef859",
   "metadata": {},
   "outputs": [
    {
     "data": {
      "text/plain": [
       "array([0])"
      ]
     },
     "execution_count": 135,
     "metadata": {},
     "output_type": "execute_result"
    }
   ],
   "source": [
    "np.dot(rand_vector_orthogonal,np.transpose(rand_vector))"
   ]
  },
  {
   "cell_type": "code",
   "execution_count": 136,
   "id": "c4d33721",
   "metadata": {},
   "outputs": [
    {
     "data": {
      "image/png": "[encoded data removed]",
      "text/plain": [
       "<Figure size 500x500 with 1 Axes>"
      ]
     },
     "metadata": {},
     "output_type": "display_data"
    }
   ],
   "source": [
    "figure_1= plt.figure(figsize= (5,5))\n",
    "ax=figure_1.add_subplot(111)\n",
    "\n",
    "ax.grid(alpha=0.8)\n",
    "ax.set(xlim=(-5,20),ylim=(-5,20))\n",
    "\n",
    "ax.annotate('',xy=rand_vector,xytext=(0,0),arrowprops=dict(facecolor='b'))\n",
    "ax.annotate('',xy=list(rand_vector_orthogonal[0]),xytext=(0,0),arrowprops=dict(facecolor='g'))\n",
    "plt.show()"
   ]
  },
  {
   "cell_type": "markdown",
   "id": "f7dfa943",
   "metadata": {},
   "source": [
    "## Projection"
   ]
  },
  {
   "cell_type": "code",
   "execution_count": 138,
   "id": "ca5756ec",
   "metadata": {},
   "outputs": [],
   "source": [
    "rand_vector=np.array(rand_vector)\n",
    "rand_vector_orthogonal =np.array(rand_vector_orthogonal)"
   ]
  },
  {
   "cell_type": "code",
   "execution_count": 141,
   "id": "5795646f",
   "metadata": {},
   "outputs": [],
   "source": [
    "rand_vector_p=np.sqrt(sum(rand_vector_orthogonal)**2)\n",
    "rand_vector = np.transpose(rand_vector)\n",
    "projection_1=(np.dot(rand_vector_orthogonal,rand_vector)/rand_vector_p**2)*rand_vector_orthogonal"
   ]
  },
  {
   "cell_type": "code",
   "execution_count": 143,
   "id": "05520c4a",
   "metadata": {},
   "outputs": [
    {
     "data": {
      "text/plain": [
       "array([[-0.,  0.]])"
      ]
     },
     "execution_count": 143,
     "metadata": {},
     "output_type": "execute_result"
    }
   ],
   "source": [
    "projection_1"
   ]
  },
  {
   "cell_type": "code",
   "execution_count": 148,
   "id": "6f082e2f",
   "metadata": {},
   "outputs": [],
   "source": [
    "rand_vector_p_2=np.sqrt(sum(rand_vector)**2)\n",
    "projection_2=(np.dot(rand_vector,rand_vector_orthogonal[0])/rand_vector_p**2)*rand_vector"
   ]
  },
  {
   "cell_type": "code",
   "execution_count": 149,
   "id": "20326687",
   "metadata": {},
   "outputs": [
    {
     "data": {
      "text/plain": [
       "array([0., 0.])"
      ]
     },
     "execution_count": 149,
     "metadata": {},
     "output_type": "execute_result"
    }
   ],
   "source": [
    "projection_2"
   ]
  },
  {
   "cell_type": "markdown",
   "id": "5f13924b",
   "metadata": {},
   "source": [
    "## Taking Projection and then getting vector"
   ]
  },
  {
   "cell_type": "code",
   "execution_count": 264,
   "id": "8e97aa74",
   "metadata": {},
   "outputs": [],
   "source": [
    "x=np.array([1,5])\n",
    "y=np.array([2,4])"
   ]
  },
  {
   "cell_type": "code",
   "execution_count": 265,
   "id": "1e990306",
   "metadata": {},
   "outputs": [
    {
     "data": {
      "text/plain": [
       "array([1.22222222, 2.44444444])"
      ]
     },
     "execution_count": 265,
     "metadata": {},
     "output_type": "execute_result"
    }
   ],
   "source": [
    "#getting projection of x on y\n",
    "y_p=np.sqrt(sum(y)**2)\n",
    "projection_of_x=(np.dot(x,y)/y_p**2)*y\n",
    "projection_of_x"
   ]
  },
  {
   "cell_type": "code",
   "execution_count": 266,
   "id": "b77f3331",
   "metadata": {},
   "outputs": [
    {
     "data": {
      "text/plain": [
       "array([0.61111111, 3.05555556])"
      ]
     },
     "execution_count": 266,
     "metadata": {},
     "output_type": "execute_result"
    }
   ],
   "source": [
    "#getting projection of y on x\n",
    "x_p=np.sqrt(sum(x)**2)\n",
    "projection_of_y=(np.dot(y,x)/x_p**2)*x\n",
    "projection_of_y"
   ]
  },
  {
   "cell_type": "code",
   "execution_count": 286,
   "id": "18a7a97e",
   "metadata": {},
   "outputs": [
    {
     "data": {
      "text/plain": [
       "array([44., 88.])"
      ]
     },
     "execution_count": 286,
     "metadata": {},
     "output_type": "execute_result"
    }
   ],
   "source": [
    "# a=np(y_p**2)*projection_of_x\n",
    "# a"
   ]
  },
  {
   "cell_type": "code",
   "execution_count": 287,
   "id": "b8d279c5",
   "metadata": {},
   "outputs": [],
   "source": [
    "# np.dot(a,x)//x"
   ]
  },
  {
   "cell_type": "code",
   "execution_count": 288,
   "id": "1dea16d2",
   "metadata": {},
   "outputs": [
    {
     "data": {
      "text/plain": [
       "20"
      ]
     },
     "execution_count": 288,
     "metadata": {},
     "output_type": "execute_result"
    }
   ],
   "source": [
    "# b=np.dot(y,y)\n",
    "# b"
   ]
  },
  {
   "cell_type": "code",
   "execution_count": 290,
   "id": "bc3fba0b",
   "metadata": {},
   "outputs": [
    {
     "data": {
      "text/plain": [
       "array([1., 3.])"
      ]
     },
     "execution_count": 290,
     "metadata": {},
     "output_type": "execute_result"
    }
   ],
   "source": [
    "# a//b"
   ]
  },
  {
   "cell_type": "code",
   "execution_count": 291,
   "id": "ec41a53d",
   "metadata": {},
   "outputs": [
    {
     "data": {
      "text/plain": [
       "36.0"
      ]
     },
     "execution_count": 291,
     "metadata": {},
     "output_type": "execute_result"
    }
   ],
   "source": [
    "# (y_p**2)"
   ]
  },
  {
   "cell_type": "code",
   "execution_count": 294,
   "id": "d73392fd",
   "metadata": {},
   "outputs": [],
   "source": [
    "def findVector(vector,projection):\n",
    "    vector_magnitude=np.sqrt(sum(vector)**2)\n",
    "    return np.dot(((vector_magnitude**2)*projection),vector)//vector"
   ]
  },
  {
   "cell_type": "code",
   "execution_count": 313,
   "id": "fdd43639",
   "metadata": {},
   "outputs": [],
   "source": [
    "x_vector=findVector(y,projection_of_x)"
   ]
  },
  {
   "cell_type": "code",
   "execution_count": null,
   "id": "238e8a15",
   "metadata": {},
   "outputs": [],
   "source": []
  },
  {
   "cell_type": "markdown",
   "id": "cb1eecdd",
   "metadata": {},
   "source": [
    "## Making Initial Vector"
   ]
  },
  {
   "cell_type": "markdown",
   "id": "0340f40d",
   "metadata": {},
   "source": [
    "#### We can't get our initial vector from projection because the projection is [0,0]."
   ]
  },
  {
   "cell_type": "markdown",
   "id": "1a984684",
   "metadata": {},
   "source": [
    "## Iris dataset EignVales, Eignvectors "
   ]
  },
  {
   "cell_type": "code",
   "execution_count": 150,
   "id": "475ca584",
   "metadata": {},
   "outputs": [
    {
     "data": {
      "text/html": [
       "<div>\n",
       "<style scoped>\n",
       "    .dataframe tbody tr th:only-of-type {\n",
       "        vertical-align: middle;\n",
       "    }\n",
       "\n",
       "    .dataframe tbody tr th {\n",
       "        vertical-align: top;\n",
       "    }\n",
       "\n",
       "    .dataframe thead th {\n",
       "        text-align: right;\n",
       "    }\n",
       "</style>\n",
       "<table border=\"1\" class=\"dataframe\">\n",
       "  <thead>\n",
       "    <tr style=\"text-align: right;\">\n",
       "      <th></th>\n",
       "      <th>Id</th>\n",
       "      <th>SepalLengthCm</th>\n",
       "      <th>SepalWidthCm</th>\n",
       "      <th>PetalLengthCm</th>\n",
       "      <th>PetalWidthCm</th>\n",
       "      <th>Species</th>\n",
       "    </tr>\n",
       "  </thead>\n",
       "  <tbody>\n",
       "    <tr>\n",
       "      <th>0</th>\n",
       "      <td>1</td>\n",
       "      <td>5.1</td>\n",
       "      <td>3.5</td>\n",
       "      <td>1.4</td>\n",
       "      <td>0.2</td>\n",
       "      <td>Iris-setosa</td>\n",
       "    </tr>\n",
       "    <tr>\n",
       "      <th>1</th>\n",
       "      <td>2</td>\n",
       "      <td>4.9</td>\n",
       "      <td>3.0</td>\n",
       "      <td>1.4</td>\n",
       "      <td>0.2</td>\n",
       "      <td>Iris-setosa</td>\n",
       "    </tr>\n",
       "    <tr>\n",
       "      <th>2</th>\n",
       "      <td>3</td>\n",
       "      <td>4.7</td>\n",
       "      <td>3.2</td>\n",
       "      <td>1.3</td>\n",
       "      <td>0.2</td>\n",
       "      <td>Iris-setosa</td>\n",
       "    </tr>\n",
       "    <tr>\n",
       "      <th>3</th>\n",
       "      <td>4</td>\n",
       "      <td>4.6</td>\n",
       "      <td>3.1</td>\n",
       "      <td>1.5</td>\n",
       "      <td>0.2</td>\n",
       "      <td>Iris-setosa</td>\n",
       "    </tr>\n",
       "    <tr>\n",
       "      <th>4</th>\n",
       "      <td>5</td>\n",
       "      <td>5.0</td>\n",
       "      <td>3.6</td>\n",
       "      <td>1.4</td>\n",
       "      <td>0.2</td>\n",
       "      <td>Iris-setosa</td>\n",
       "    </tr>\n",
       "    <tr>\n",
       "      <th>...</th>\n",
       "      <td>...</td>\n",
       "      <td>...</td>\n",
       "      <td>...</td>\n",
       "      <td>...</td>\n",
       "      <td>...</td>\n",
       "      <td>...</td>\n",
       "    </tr>\n",
       "    <tr>\n",
       "      <th>145</th>\n",
       "      <td>146</td>\n",
       "      <td>6.7</td>\n",
       "      <td>3.0</td>\n",
       "      <td>5.2</td>\n",
       "      <td>2.3</td>\n",
       "      <td>Iris-virginica</td>\n",
       "    </tr>\n",
       "    <tr>\n",
       "      <th>146</th>\n",
       "      <td>147</td>\n",
       "      <td>6.3</td>\n",
       "      <td>2.5</td>\n",
       "      <td>5.0</td>\n",
       "      <td>1.9</td>\n",
       "      <td>Iris-virginica</td>\n",
       "    </tr>\n",
       "    <tr>\n",
       "      <th>147</th>\n",
       "      <td>148</td>\n",
       "      <td>6.5</td>\n",
       "      <td>3.0</td>\n",
       "      <td>5.2</td>\n",
       "      <td>2.0</td>\n",
       "      <td>Iris-virginica</td>\n",
       "    </tr>\n",
       "    <tr>\n",
       "      <th>148</th>\n",
       "      <td>149</td>\n",
       "      <td>6.2</td>\n",
       "      <td>3.4</td>\n",
       "      <td>5.4</td>\n",
       "      <td>2.3</td>\n",
       "      <td>Iris-virginica</td>\n",
       "    </tr>\n",
       "    <tr>\n",
       "      <th>149</th>\n",
       "      <td>150</td>\n",
       "      <td>5.9</td>\n",
       "      <td>3.0</td>\n",
       "      <td>5.1</td>\n",
       "      <td>1.8</td>\n",
       "      <td>Iris-virginica</td>\n",
       "    </tr>\n",
       "  </tbody>\n",
       "</table>\n",
       "<p>150 rows × 6 columns</p>\n",
       "</div>"
      ],
      "text/plain": [
       "      Id  SepalLengthCm  SepalWidthCm  PetalLengthCm  PetalWidthCm  \\\n",
       "0      1            5.1           3.5            1.4           0.2   \n",
       "1      2            4.9           3.0            1.4           0.2   \n",
       "2      3            4.7           3.2            1.3           0.2   \n",
       "3      4            4.6           3.1            1.5           0.2   \n",
       "4      5            5.0           3.6            1.4           0.2   \n",
       "..   ...            ...           ...            ...           ...   \n",
       "145  146            6.7           3.0            5.2           2.3   \n",
       "146  147            6.3           2.5            5.0           1.9   \n",
       "147  148            6.5           3.0            5.2           2.0   \n",
       "148  149            6.2           3.4            5.4           2.3   \n",
       "149  150            5.9           3.0            5.1           1.8   \n",
       "\n",
       "            Species  \n",
       "0       Iris-setosa  \n",
       "1       Iris-setosa  \n",
       "2       Iris-setosa  \n",
       "3       Iris-setosa  \n",
       "4       Iris-setosa  \n",
       "..              ...  \n",
       "145  Iris-virginica  \n",
       "146  Iris-virginica  \n",
       "147  Iris-virginica  \n",
       "148  Iris-virginica  \n",
       "149  Iris-virginica  \n",
       "\n",
       "[150 rows x 6 columns]"
      ]
     },
     "execution_count": 150,
     "metadata": {},
     "output_type": "execute_result"
    }
   ],
   "source": [
    "df_iris=pd.read_csv(\"iris.csv\")\n",
    "df_iris"
   ]
  },
  {
   "cell_type": "code",
   "execution_count": 155,
   "id": "3c849ce8",
   "metadata": {},
   "outputs": [
    {
     "data": {
      "text/html": [
       "<div>\n",
       "<style scoped>\n",
       "    .dataframe tbody tr th:only-of-type {\n",
       "        vertical-align: middle;\n",
       "    }\n",
       "\n",
       "    .dataframe tbody tr th {\n",
       "        vertical-align: top;\n",
       "    }\n",
       "\n",
       "    .dataframe thead th {\n",
       "        text-align: right;\n",
       "    }\n",
       "</style>\n",
       "<table border=\"1\" class=\"dataframe\">\n",
       "  <thead>\n",
       "    <tr style=\"text-align: right;\">\n",
       "      <th></th>\n",
       "      <th>SepalLengthCm</th>\n",
       "      <th>SepalWidthCm</th>\n",
       "      <th>PetalLengthCm</th>\n",
       "      <th>PetalWidthCm</th>\n",
       "    </tr>\n",
       "  </thead>\n",
       "  <tbody>\n",
       "    <tr>\n",
       "      <th>0</th>\n",
       "      <td>5.1</td>\n",
       "      <td>3.5</td>\n",
       "      <td>1.4</td>\n",
       "      <td>0.2</td>\n",
       "    </tr>\n",
       "    <tr>\n",
       "      <th>1</th>\n",
       "      <td>4.9</td>\n",
       "      <td>3.0</td>\n",
       "      <td>1.4</td>\n",
       "      <td>0.2</td>\n",
       "    </tr>\n",
       "    <tr>\n",
       "      <th>2</th>\n",
       "      <td>4.7</td>\n",
       "      <td>3.2</td>\n",
       "      <td>1.3</td>\n",
       "      <td>0.2</td>\n",
       "    </tr>\n",
       "    <tr>\n",
       "      <th>3</th>\n",
       "      <td>4.6</td>\n",
       "      <td>3.1</td>\n",
       "      <td>1.5</td>\n",
       "      <td>0.2</td>\n",
       "    </tr>\n",
       "    <tr>\n",
       "      <th>4</th>\n",
       "      <td>5.0</td>\n",
       "      <td>3.6</td>\n",
       "      <td>1.4</td>\n",
       "      <td>0.2</td>\n",
       "    </tr>\n",
       "    <tr>\n",
       "      <th>...</th>\n",
       "      <td>...</td>\n",
       "      <td>...</td>\n",
       "      <td>...</td>\n",
       "      <td>...</td>\n",
       "    </tr>\n",
       "    <tr>\n",
       "      <th>145</th>\n",
       "      <td>6.7</td>\n",
       "      <td>3.0</td>\n",
       "      <td>5.2</td>\n",
       "      <td>2.3</td>\n",
       "    </tr>\n",
       "    <tr>\n",
       "      <th>146</th>\n",
       "      <td>6.3</td>\n",
       "      <td>2.5</td>\n",
       "      <td>5.0</td>\n",
       "      <td>1.9</td>\n",
       "    </tr>\n",
       "    <tr>\n",
       "      <th>147</th>\n",
       "      <td>6.5</td>\n",
       "      <td>3.0</td>\n",
       "      <td>5.2</td>\n",
       "      <td>2.0</td>\n",
       "    </tr>\n",
       "    <tr>\n",
       "      <th>148</th>\n",
       "      <td>6.2</td>\n",
       "      <td>3.4</td>\n",
       "      <td>5.4</td>\n",
       "      <td>2.3</td>\n",
       "    </tr>\n",
       "    <tr>\n",
       "      <th>149</th>\n",
       "      <td>5.9</td>\n",
       "      <td>3.0</td>\n",
       "      <td>5.1</td>\n",
       "      <td>1.8</td>\n",
       "    </tr>\n",
       "  </tbody>\n",
       "</table>\n",
       "<p>150 rows × 4 columns</p>\n",
       "</div>"
      ],
      "text/plain": [
       "     SepalLengthCm  SepalWidthCm  PetalLengthCm  PetalWidthCm\n",
       "0              5.1           3.5            1.4           0.2\n",
       "1              4.9           3.0            1.4           0.2\n",
       "2              4.7           3.2            1.3           0.2\n",
       "3              4.6           3.1            1.5           0.2\n",
       "4              5.0           3.6            1.4           0.2\n",
       "..             ...           ...            ...           ...\n",
       "145            6.7           3.0            5.2           2.3\n",
       "146            6.3           2.5            5.0           1.9\n",
       "147            6.5           3.0            5.2           2.0\n",
       "148            6.2           3.4            5.4           2.3\n",
       "149            5.9           3.0            5.1           1.8\n",
       "\n",
       "[150 rows x 4 columns]"
      ]
     },
     "execution_count": 155,
     "metadata": {},
     "output_type": "execute_result"
    }
   ],
   "source": [
    "df=df_iris.iloc[:,1:5]\n",
    "df"
   ]
  },
  {
   "cell_type": "code",
   "execution_count": 162,
   "id": "4d7c4752",
   "metadata": {},
   "outputs": [],
   "source": [
    "df2=df.to_numpy()\n",
    "df2=np.dot(df2,np.transpose(df2))"
   ]
  },
  {
   "cell_type": "code",
   "execution_count": 164,
   "id": "361f38e0",
   "metadata": {},
   "outputs": [],
   "source": [
    "eignvalue,eignvector=np.linalg.eig(df2)"
   ]
  },
  {
   "cell_type": "markdown",
   "id": "e6b196b9",
   "metadata": {},
   "source": [
    "## Zero centering Iris Data Set"
   ]
  },
  {
   "cell_type": "code",
   "execution_count": 297,
   "id": "1907a57c",
   "metadata": {},
   "outputs": [
    {
     "data": {
      "text/html": [
       "<div>\n",
       "<style scoped>\n",
       "    .dataframe tbody tr th:only-of-type {\n",
       "        vertical-align: middle;\n",
       "    }\n",
       "\n",
       "    .dataframe tbody tr th {\n",
       "        vertical-align: top;\n",
       "    }\n",
       "\n",
       "    .dataframe thead th {\n",
       "        text-align: right;\n",
       "    }\n",
       "</style>\n",
       "<table border=\"1\" class=\"dataframe\">\n",
       "  <thead>\n",
       "    <tr style=\"text-align: right;\">\n",
       "      <th></th>\n",
       "      <th>SepalLengthCm</th>\n",
       "      <th>SepalWidthCm</th>\n",
       "      <th>PetalLengthCm</th>\n",
       "      <th>PetalWidthCm</th>\n",
       "    </tr>\n",
       "  </thead>\n",
       "  <tbody>\n",
       "    <tr>\n",
       "      <th>0</th>\n",
       "      <td>5.1</td>\n",
       "      <td>3.5</td>\n",
       "      <td>1.4</td>\n",
       "      <td>0.2</td>\n",
       "    </tr>\n",
       "    <tr>\n",
       "      <th>1</th>\n",
       "      <td>4.9</td>\n",
       "      <td>3.0</td>\n",
       "      <td>1.4</td>\n",
       "      <td>0.2</td>\n",
       "    </tr>\n",
       "    <tr>\n",
       "      <th>2</th>\n",
       "      <td>4.7</td>\n",
       "      <td>3.2</td>\n",
       "      <td>1.3</td>\n",
       "      <td>0.2</td>\n",
       "    </tr>\n",
       "    <tr>\n",
       "      <th>3</th>\n",
       "      <td>4.6</td>\n",
       "      <td>3.1</td>\n",
       "      <td>1.5</td>\n",
       "      <td>0.2</td>\n",
       "    </tr>\n",
       "    <tr>\n",
       "      <th>4</th>\n",
       "      <td>5.0</td>\n",
       "      <td>3.6</td>\n",
       "      <td>1.4</td>\n",
       "      <td>0.2</td>\n",
       "    </tr>\n",
       "    <tr>\n",
       "      <th>...</th>\n",
       "      <td>...</td>\n",
       "      <td>...</td>\n",
       "      <td>...</td>\n",
       "      <td>...</td>\n",
       "    </tr>\n",
       "    <tr>\n",
       "      <th>145</th>\n",
       "      <td>6.7</td>\n",
       "      <td>3.0</td>\n",
       "      <td>5.2</td>\n",
       "      <td>2.3</td>\n",
       "    </tr>\n",
       "    <tr>\n",
       "      <th>146</th>\n",
       "      <td>6.3</td>\n",
       "      <td>2.5</td>\n",
       "      <td>5.0</td>\n",
       "      <td>1.9</td>\n",
       "    </tr>\n",
       "    <tr>\n",
       "      <th>147</th>\n",
       "      <td>6.5</td>\n",
       "      <td>3.0</td>\n",
       "      <td>5.2</td>\n",
       "      <td>2.0</td>\n",
       "    </tr>\n",
       "    <tr>\n",
       "      <th>148</th>\n",
       "      <td>6.2</td>\n",
       "      <td>3.4</td>\n",
       "      <td>5.4</td>\n",
       "      <td>2.3</td>\n",
       "    </tr>\n",
       "    <tr>\n",
       "      <th>149</th>\n",
       "      <td>5.9</td>\n",
       "      <td>3.0</td>\n",
       "      <td>5.1</td>\n",
       "      <td>1.8</td>\n",
       "    </tr>\n",
       "  </tbody>\n",
       "</table>\n",
       "<p>150 rows × 4 columns</p>\n",
       "</div>"
      ],
      "text/plain": [
       "     SepalLengthCm  SepalWidthCm  PetalLengthCm  PetalWidthCm\n",
       "0              5.1           3.5            1.4           0.2\n",
       "1              4.9           3.0            1.4           0.2\n",
       "2              4.7           3.2            1.3           0.2\n",
       "3              4.6           3.1            1.5           0.2\n",
       "4              5.0           3.6            1.4           0.2\n",
       "..             ...           ...            ...           ...\n",
       "145            6.7           3.0            5.2           2.3\n",
       "146            6.3           2.5            5.0           1.9\n",
       "147            6.5           3.0            5.2           2.0\n",
       "148            6.2           3.4            5.4           2.3\n",
       "149            5.9           3.0            5.1           1.8\n",
       "\n",
       "[150 rows x 4 columns]"
      ]
     },
     "execution_count": 297,
     "metadata": {},
     "output_type": "execute_result"
    }
   ],
   "source": [
    "df"
   ]
  },
  {
   "cell_type": "code",
   "execution_count": 302,
   "id": "367c4923",
   "metadata": {},
   "outputs": [
    {
     "data": {
      "text/html": [
       "<div>\n",
       "<style scoped>\n",
       "    .dataframe tbody tr th:only-of-type {\n",
       "        vertical-align: middle;\n",
       "    }\n",
       "\n",
       "    .dataframe tbody tr th {\n",
       "        vertical-align: top;\n",
       "    }\n",
       "\n",
       "    .dataframe thead th {\n",
       "        text-align: right;\n",
       "    }\n",
       "</style>\n",
       "<table border=\"1\" class=\"dataframe\">\n",
       "  <thead>\n",
       "    <tr style=\"text-align: right;\">\n",
       "      <th></th>\n",
       "      <th>SepalLengthCm</th>\n",
       "      <th>SepalWidthCm</th>\n",
       "      <th>PetalLengthCm</th>\n",
       "      <th>PetalWidthCm</th>\n",
       "    </tr>\n",
       "  </thead>\n",
       "  <tbody>\n",
       "    <tr>\n",
       "      <th>0</th>\n",
       "      <td>-0.743333</td>\n",
       "      <td>0.446</td>\n",
       "      <td>-2.358667</td>\n",
       "      <td>-0.998667</td>\n",
       "    </tr>\n",
       "    <tr>\n",
       "      <th>1</th>\n",
       "      <td>-0.943333</td>\n",
       "      <td>-0.054</td>\n",
       "      <td>-2.358667</td>\n",
       "      <td>-0.998667</td>\n",
       "    </tr>\n",
       "    <tr>\n",
       "      <th>2</th>\n",
       "      <td>-1.143333</td>\n",
       "      <td>0.146</td>\n",
       "      <td>-2.458667</td>\n",
       "      <td>-0.998667</td>\n",
       "    </tr>\n",
       "    <tr>\n",
       "      <th>3</th>\n",
       "      <td>-1.243333</td>\n",
       "      <td>0.046</td>\n",
       "      <td>-2.258667</td>\n",
       "      <td>-0.998667</td>\n",
       "    </tr>\n",
       "    <tr>\n",
       "      <th>4</th>\n",
       "      <td>-0.843333</td>\n",
       "      <td>0.546</td>\n",
       "      <td>-2.358667</td>\n",
       "      <td>-0.998667</td>\n",
       "    </tr>\n",
       "    <tr>\n",
       "      <th>...</th>\n",
       "      <td>...</td>\n",
       "      <td>...</td>\n",
       "      <td>...</td>\n",
       "      <td>...</td>\n",
       "    </tr>\n",
       "    <tr>\n",
       "      <th>145</th>\n",
       "      <td>0.856667</td>\n",
       "      <td>-0.054</td>\n",
       "      <td>1.441333</td>\n",
       "      <td>1.101333</td>\n",
       "    </tr>\n",
       "    <tr>\n",
       "      <th>146</th>\n",
       "      <td>0.456667</td>\n",
       "      <td>-0.554</td>\n",
       "      <td>1.241333</td>\n",
       "      <td>0.701333</td>\n",
       "    </tr>\n",
       "    <tr>\n",
       "      <th>147</th>\n",
       "      <td>0.656667</td>\n",
       "      <td>-0.054</td>\n",
       "      <td>1.441333</td>\n",
       "      <td>0.801333</td>\n",
       "    </tr>\n",
       "    <tr>\n",
       "      <th>148</th>\n",
       "      <td>0.356667</td>\n",
       "      <td>0.346</td>\n",
       "      <td>1.641333</td>\n",
       "      <td>1.101333</td>\n",
       "    </tr>\n",
       "    <tr>\n",
       "      <th>149</th>\n",
       "      <td>0.056667</td>\n",
       "      <td>-0.054</td>\n",
       "      <td>1.341333</td>\n",
       "      <td>0.601333</td>\n",
       "    </tr>\n",
       "  </tbody>\n",
       "</table>\n",
       "<p>150 rows × 4 columns</p>\n",
       "</div>"
      ],
      "text/plain": [
       "     SepalLengthCm  SepalWidthCm  PetalLengthCm  PetalWidthCm\n",
       "0        -0.743333         0.446      -2.358667     -0.998667\n",
       "1        -0.943333        -0.054      -2.358667     -0.998667\n",
       "2        -1.143333         0.146      -2.458667     -0.998667\n",
       "3        -1.243333         0.046      -2.258667     -0.998667\n",
       "4        -0.843333         0.546      -2.358667     -0.998667\n",
       "..             ...           ...            ...           ...\n",
       "145       0.856667        -0.054       1.441333      1.101333\n",
       "146       0.456667        -0.554       1.241333      0.701333\n",
       "147       0.656667        -0.054       1.441333      0.801333\n",
       "148       0.356667         0.346       1.641333      1.101333\n",
       "149       0.056667        -0.054       1.341333      0.601333\n",
       "\n",
       "[150 rows x 4 columns]"
      ]
     },
     "execution_count": 302,
     "metadata": {},
     "output_type": "execute_result"
    }
   ],
   "source": [
    "mean_df=np.mean(df,axis =0)\n",
    "zero_centeres_df_iris=df-mean_df\n",
    "zero_centeres_df_iris"
   ]
  },
  {
   "cell_type": "markdown",
   "id": "ed166964",
   "metadata": {},
   "source": [
    "## Zero Centering of ECG"
   ]
  },
  {
   "cell_type": "code",
   "execution_count": 312,
   "id": "50da83a4",
   "metadata": {},
   "outputs": [
    {
     "name": "stderr",
     "output_type": "stream",
     "text": [
      "C:\\Users\\AZAM COMPUTERS\\AppData\\Local\\Temp\\ipykernel_4792\\4226103699.py:1: ParserWarning: Falling back to the 'python' engine because the 'c' engine does not support regex separators (separators > 1 char and different from '\\s+' are interpreted as regex); you can avoid this warning by specifying engine='python'.\n",
      "  df_ecg=pd.read_csv(\"ECG200_TRAIN.csv\", delimiter=\"  \")\n"
     ]
    },
    {
     "data": {
      "text/html": [
       "<div>\n",
       "<style scoped>\n",
       "    .dataframe tbody tr th:only-of-type {\n",
       "        vertical-align: middle;\n",
       "    }\n",
       "\n",
       "    .dataframe tbody tr th {\n",
       "        vertical-align: top;\n",
       "    }\n",
       "\n",
       "    .dataframe thead th {\n",
       "        text-align: right;\n",
       "    }\n",
       "</style>\n",
       "<table border=\"1\" class=\"dataframe\">\n",
       "  <thead>\n",
       "    <tr style=\"text-align: right;\">\n",
       "      <th></th>\n",
       "      <th>5.0205548e-01</th>\n",
       "      <th>5.4216265e-01</th>\n",
       "      <th>7.2238348e-01</th>\n",
       "      <th>1.4288852e+00</th>\n",
       "      <th>2.1365158e+00</th>\n",
       "      <th>2.2811490e+00</th>\n",
       "      <th>1.9362737e+00</th>\n",
       "      <th>1.4688900e+00</th>\n",
       "      <th>1.0088451e+00</th>\n",
       "      <th>3.8028224e-01</th>\n",
       "      <th>...</th>\n",
       "      <th>9.3104294e-01</th>\n",
       "      <th>6.1029836e-01</th>\n",
       "      <th>6.3889427e-01</th>\n",
       "      <th>6.8467857e-01</th>\n",
       "      <th>5.8323764e-01</th>\n",
       "      <th>6.4052167e-01</th>\n",
       "      <th>7.0858515e-01</th>\n",
       "      <th>7.0501088e-01</th>\n",
       "      <th>7.1381545e-01</th>\n",
       "      <th>4.3376464e-01</th>\n",
       "    </tr>\n",
       "  </thead>\n",
       "  <tbody>\n",
       "    <tr>\n",
       "      <th>0</th>\n",
       "      <td>-0.562875</td>\n",
       "      <td>-0.626371</td>\n",
       "      <td>-1.684678</td>\n",
       "      <td>-1.889607</td>\n",
       "      <td>-1.519094</td>\n",
       "      <td>-1.021311</td>\n",
       "      <td>-0.169213</td>\n",
       "      <td>-1.069893</td>\n",
       "      <td>-1.976327</td>\n",
       "      <td>-1.388649</td>\n",
       "      <td>...</td>\n",
       "      <td>-0.716434</td>\n",
       "      <td>-0.570110</td>\n",
       "      <td>-0.024641</td>\n",
       "      <td>0.829306</td>\n",
       "      <td>2.027689</td>\n",
       "      <td>2.277342</td>\n",
       "      <td>1.349421</td>\n",
       "      <td>-0.241743</td>\n",
       "      <td>-1.442540</td>\n",
       "      <td>-0.380272</td>\n",
       "    </tr>\n",
       "    <tr>\n",
       "      <th>1</th>\n",
       "      <td>-0.393876</td>\n",
       "      <td>-1.187841</td>\n",
       "      <td>-1.681978</td>\n",
       "      <td>-1.069763</td>\n",
       "      <td>0.132479</td>\n",
       "      <td>1.012649</td>\n",
       "      <td>1.431773</td>\n",
       "      <td>1.289997</td>\n",
       "      <td>0.801638</td>\n",
       "      <td>0.290901</td>\n",
       "      <td>...</td>\n",
       "      <td>0.581298</td>\n",
       "      <td>0.440740</td>\n",
       "      <td>0.352175</td>\n",
       "      <td>0.284324</td>\n",
       "      <td>0.193263</td>\n",
       "      <td>0.319521</td>\n",
       "      <td>0.425713</td>\n",
       "      <td>0.470248</td>\n",
       "      <td>0.640576</td>\n",
       "      <td>0.367099</td>\n",
       "    </tr>\n",
       "    <tr>\n",
       "      <th>2</th>\n",
       "      <td>0.458352</td>\n",
       "      <td>0.644861</td>\n",
       "      <td>-0.292309</td>\n",
       "      <td>-0.527055</td>\n",
       "      <td>0.403337</td>\n",
       "      <td>0.555934</td>\n",
       "      <td>0.193388</td>\n",
       "      <td>0.194250</td>\n",
       "      <td>0.485630</td>\n",
       "      <td>0.780171</td>\n",
       "      <td>...</td>\n",
       "      <td>0.236076</td>\n",
       "      <td>0.554006</td>\n",
       "      <td>1.123222</td>\n",
       "      <td>1.854026</td>\n",
       "      <td>1.335857</td>\n",
       "      <td>1.012674</td>\n",
       "      <td>1.506879</td>\n",
       "      <td>0.978349</td>\n",
       "      <td>0.622941</td>\n",
       "      <td>0.559292</td>\n",
       "    </tr>\n",
       "    <tr>\n",
       "      <th>3</th>\n",
       "      <td>-0.061865</td>\n",
       "      <td>-0.679014</td>\n",
       "      <td>0.583781</td>\n",
       "      <td>1.322214</td>\n",
       "      <td>0.572449</td>\n",
       "      <td>-0.226288</td>\n",
       "      <td>-0.454570</td>\n",
       "      <td>0.458656</td>\n",
       "      <td>0.567225</td>\n",
       "      <td>0.492346</td>\n",
       "      <td>...</td>\n",
       "      <td>-0.280800</td>\n",
       "      <td>-0.306668</td>\n",
       "      <td>-0.540962</td>\n",
       "      <td>-0.371903</td>\n",
       "      <td>-0.491036</td>\n",
       "      <td>-0.650131</td>\n",
       "      <td>-0.691337</td>\n",
       "      <td>-0.733156</td>\n",
       "      <td>0.137124</td>\n",
       "      <td>0.409941</td>\n",
       "    </tr>\n",
       "    <tr>\n",
       "      <th>4</th>\n",
       "      <td>-0.305790</td>\n",
       "      <td>-0.150181</td>\n",
       "      <td>0.462698</td>\n",
       "      <td>-0.833982</td>\n",
       "      <td>-0.092276</td>\n",
       "      <td>-0.272633</td>\n",
       "      <td>-1.662506</td>\n",
       "      <td>-0.969243</td>\n",
       "      <td>0.065395</td>\n",
       "      <td>-0.076611</td>\n",
       "      <td>...</td>\n",
       "      <td>0.193538</td>\n",
       "      <td>0.107930</td>\n",
       "      <td>0.024951</td>\n",
       "      <td>-0.123371</td>\n",
       "      <td>-0.002385</td>\n",
       "      <td>0.082468</td>\n",
       "      <td>-0.414424</td>\n",
       "      <td>-0.075124</td>\n",
       "      <td>0.169498</td>\n",
       "      <td>0.166937</td>\n",
       "    </tr>\n",
       "    <tr>\n",
       "      <th>...</th>\n",
       "      <td>...</td>\n",
       "      <td>...</td>\n",
       "      <td>...</td>\n",
       "      <td>...</td>\n",
       "      <td>...</td>\n",
       "      <td>...</td>\n",
       "      <td>...</td>\n",
       "      <td>...</td>\n",
       "      <td>...</td>\n",
       "      <td>...</td>\n",
       "      <td>...</td>\n",
       "      <td>...</td>\n",
       "      <td>...</td>\n",
       "      <td>...</td>\n",
       "      <td>...</td>\n",
       "      <td>...</td>\n",
       "      <td>...</td>\n",
       "      <td>...</td>\n",
       "      <td>...</td>\n",
       "      <td>...</td>\n",
       "      <td>...</td>\n",
       "    </tr>\n",
       "    <tr>\n",
       "      <th>94</th>\n",
       "      <td>-0.129245</td>\n",
       "      <td>-0.554852</td>\n",
       "      <td>-1.009683</td>\n",
       "      <td>-0.337381</td>\n",
       "      <td>0.995691</td>\n",
       "      <td>1.499744</td>\n",
       "      <td>1.234443</td>\n",
       "      <td>0.709358</td>\n",
       "      <td>0.016122</td>\n",
       "      <td>-0.406618</td>\n",
       "      <td>...</td>\n",
       "      <td>0.819840</td>\n",
       "      <td>0.737987</td>\n",
       "      <td>0.715732</td>\n",
       "      <td>0.641513</td>\n",
       "      <td>0.356618</td>\n",
       "      <td>0.198677</td>\n",
       "      <td>0.375724</td>\n",
       "      <td>0.222773</td>\n",
       "      <td>-0.510802</td>\n",
       "      <td>-0.696794</td>\n",
       "    </tr>\n",
       "    <tr>\n",
       "      <th>95</th>\n",
       "      <td>1.978495</td>\n",
       "      <td>1.277664</td>\n",
       "      <td>-0.044068</td>\n",
       "      <td>0.102299</td>\n",
       "      <td>-0.028727</td>\n",
       "      <td>-0.716992</td>\n",
       "      <td>-0.827290</td>\n",
       "      <td>-1.115864</td>\n",
       "      <td>-1.345921</td>\n",
       "      <td>-1.497218</td>\n",
       "      <td>...</td>\n",
       "      <td>-0.319541</td>\n",
       "      <td>-0.242057</td>\n",
       "      <td>-0.283463</td>\n",
       "      <td>-0.420930</td>\n",
       "      <td>-0.531135</td>\n",
       "      <td>-0.546958</td>\n",
       "      <td>-0.629773</td>\n",
       "      <td>-0.398310</td>\n",
       "      <td>-0.053423</td>\n",
       "      <td>0.101215</td>\n",
       "    </tr>\n",
       "    <tr>\n",
       "      <th>96</th>\n",
       "      <td>-0.512845</td>\n",
       "      <td>-0.975623</td>\n",
       "      <td>-1.079340</td>\n",
       "      <td>-0.197545</td>\n",
       "      <td>0.713755</td>\n",
       "      <td>0.994432</td>\n",
       "      <td>0.892352</td>\n",
       "      <td>0.096079</td>\n",
       "      <td>-0.438155</td>\n",
       "      <td>-0.450306</td>\n",
       "      <td>...</td>\n",
       "      <td>0.299522</td>\n",
       "      <td>0.155688</td>\n",
       "      <td>0.047266</td>\n",
       "      <td>-0.098335</td>\n",
       "      <td>-0.360381</td>\n",
       "      <td>-0.215558</td>\n",
       "      <td>-0.055182</td>\n",
       "      <td>-0.398606</td>\n",
       "      <td>-0.135043</td>\n",
       "      <td>0.171045</td>\n",
       "    </tr>\n",
       "    <tr>\n",
       "      <th>97</th>\n",
       "      <td>-0.531022</td>\n",
       "      <td>-0.392631</td>\n",
       "      <td>-0.106029</td>\n",
       "      <td>0.571640</td>\n",
       "      <td>0.124998</td>\n",
       "      <td>-0.848075</td>\n",
       "      <td>-1.844820</td>\n",
       "      <td>-1.073068</td>\n",
       "      <td>-0.191240</td>\n",
       "      <td>-0.144155</td>\n",
       "      <td>...</td>\n",
       "      <td>0.141393</td>\n",
       "      <td>0.160607</td>\n",
       "      <td>-0.088772</td>\n",
       "      <td>0.166486</td>\n",
       "      <td>0.156393</td>\n",
       "      <td>-0.320789</td>\n",
       "      <td>0.058135</td>\n",
       "      <td>-0.127550</td>\n",
       "      <td>0.015912</td>\n",
       "      <td>0.279461</td>\n",
       "    </tr>\n",
       "    <tr>\n",
       "      <th>98</th>\n",
       "      <td>-0.637398</td>\n",
       "      <td>-0.654986</td>\n",
       "      <td>0.128886</td>\n",
       "      <td>1.306824</td>\n",
       "      <td>0.622767</td>\n",
       "      <td>-0.249593</td>\n",
       "      <td>-1.190228</td>\n",
       "      <td>-1.821389</td>\n",
       "      <td>-1.045878</td>\n",
       "      <td>-0.758948</td>\n",
       "      <td>...</td>\n",
       "      <td>-0.241866</td>\n",
       "      <td>-0.300519</td>\n",
       "      <td>-0.547960</td>\n",
       "      <td>-0.460395</td>\n",
       "      <td>-0.471071</td>\n",
       "      <td>-0.805180</td>\n",
       "      <td>-0.834076</td>\n",
       "      <td>-0.345289</td>\n",
       "      <td>-0.355914</td>\n",
       "      <td>-0.428300</td>\n",
       "    </tr>\n",
       "  </tbody>\n",
       "</table>\n",
       "<p>99 rows × 96 columns</p>\n",
       "</div>"
      ],
      "text/plain": [
       "     5.0205548e-01   5.4216265e-01   7.2238348e-01   1.4288852e+00  \\\n",
       "0        -0.562875       -0.626371       -1.684678       -1.889607   \n",
       "1        -0.393876       -1.187841       -1.681978       -1.069763   \n",
       "2         0.458352        0.644861       -0.292309       -0.527055   \n",
       "3        -0.061865       -0.679014        0.583781        1.322214   \n",
       "4        -0.305790       -0.150181        0.462698       -0.833982   \n",
       "..             ...             ...             ...             ...   \n",
       "94       -0.129245       -0.554852       -1.009683       -0.337381   \n",
       "95        1.978495        1.277664       -0.044068        0.102299   \n",
       "96       -0.512845       -0.975623       -1.079340       -0.197545   \n",
       "97       -0.531022       -0.392631       -0.106029        0.571640   \n",
       "98       -0.637398       -0.654986        0.128886        1.306824   \n",
       "\n",
       "     2.1365158e+00   2.2811490e+00   1.9362737e+00   1.4688900e+00  \\\n",
       "0        -1.519094       -1.021311       -0.169213       -1.069893   \n",
       "1         0.132479        1.012649        1.431773        1.289997   \n",
       "2         0.403337        0.555934        0.193388        0.194250   \n",
       "3         0.572449       -0.226288       -0.454570        0.458656   \n",
       "4        -0.092276       -0.272633       -1.662506       -0.969243   \n",
       "..             ...             ...             ...             ...   \n",
       "94        0.995691        1.499744        1.234443        0.709358   \n",
       "95       -0.028727       -0.716992       -0.827290       -1.115864   \n",
       "96        0.713755        0.994432        0.892352        0.096079   \n",
       "97        0.124998       -0.848075       -1.844820       -1.073068   \n",
       "98        0.622767       -0.249593       -1.190228       -1.821389   \n",
       "\n",
       "     1.0088451e+00   3.8028224e-01  ...   9.3104294e-01   6.1029836e-01  \\\n",
       "0        -1.976327       -1.388649  ...       -0.716434       -0.570110   \n",
       "1         0.801638        0.290901  ...        0.581298        0.440740   \n",
       "2         0.485630        0.780171  ...        0.236076        0.554006   \n",
       "3         0.567225        0.492346  ...       -0.280800       -0.306668   \n",
       "4         0.065395       -0.076611  ...        0.193538        0.107930   \n",
       "..             ...             ...  ...             ...             ...   \n",
       "94        0.016122       -0.406618  ...        0.819840        0.737987   \n",
       "95       -1.345921       -1.497218  ...       -0.319541       -0.242057   \n",
       "96       -0.438155       -0.450306  ...        0.299522        0.155688   \n",
       "97       -0.191240       -0.144155  ...        0.141393        0.160607   \n",
       "98       -1.045878       -0.758948  ...       -0.241866       -0.300519   \n",
       "\n",
       "     6.3889427e-01   6.8467857e-01   5.8323764e-01   6.4052167e-01  \\\n",
       "0        -0.024641        0.829306        2.027689        2.277342   \n",
       "1         0.352175        0.284324        0.193263        0.319521   \n",
       "2         1.123222        1.854026        1.335857        1.012674   \n",
       "3        -0.540962       -0.371903       -0.491036       -0.650131   \n",
       "4         0.024951       -0.123371       -0.002385        0.082468   \n",
       "..             ...             ...             ...             ...   \n",
       "94        0.715732        0.641513        0.356618        0.198677   \n",
       "95       -0.283463       -0.420930       -0.531135       -0.546958   \n",
       "96        0.047266       -0.098335       -0.360381       -0.215558   \n",
       "97       -0.088772        0.166486        0.156393       -0.320789   \n",
       "98       -0.547960       -0.460395       -0.471071       -0.805180   \n",
       "\n",
       "     7.0858515e-01   7.0501088e-01   7.1381545e-01   4.3376464e-01  \n",
       "0         1.349421       -0.241743       -1.442540       -0.380272  \n",
       "1         0.425713        0.470248        0.640576        0.367099  \n",
       "2         1.506879        0.978349        0.622941        0.559292  \n",
       "3        -0.691337       -0.733156        0.137124        0.409941  \n",
       "4        -0.414424       -0.075124        0.169498        0.166937  \n",
       "..             ...             ...             ...             ...  \n",
       "94        0.375724        0.222773       -0.510802       -0.696794  \n",
       "95       -0.629773       -0.398310       -0.053423        0.101215  \n",
       "96       -0.055182       -0.398606       -0.135043        0.171045  \n",
       "97        0.058135       -0.127550        0.015912        0.279461  \n",
       "98       -0.834076       -0.345289       -0.355914       -0.428300  \n",
       "\n",
       "[99 rows x 96 columns]"
      ]
     },
     "execution_count": 312,
     "metadata": {},
     "output_type": "execute_result"
    }
   ],
   "source": [
    "df_ecg=pd.read_csv(\"ECG200_TRAIN.csv\", delimiter=\"  \")\n",
    "df_ecg=df_ecg.iloc[:,1:]\n",
    "mean_df_ecg=np.mean(df_ecg,axis =0)\n",
    "zero_ecg_df= df_ecg-mean_df_ecg\n",
    "zero_ecg_df"
   ]
  },
  {
   "cell_type": "code",
   "execution_count": null,
   "id": "05ae8ccf",
   "metadata": {},
   "outputs": [],
   "source": []
  }
 ],
 "metadata": {
  "kernelspec": {
   "display_name": "Python 3 (ipykernel)",
   "language": "python",
   "name": "python3"
  },
  "language_info": {
   "codemirror_mode": {
    "name": "ipython",
    "version": 3
   },
   "file_extension": ".py",
   "mimetype": "text/x-python",
   "name": "python",
   "nbconvert_exporter": "python",
   "pygments_lexer": "ipython3",
   "version": "3.9.13"
  }
 },
 "nbformat": 4,
 "nbformat_minor": 5
}

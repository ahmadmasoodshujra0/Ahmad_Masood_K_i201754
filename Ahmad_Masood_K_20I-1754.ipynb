{
 "cells": [
  {
   "cell_type": "markdown",
   "id": "b80d97d5",
   "metadata": {},
   "source": [
    "# Ahmad Masood\n",
    "# 20I-1754\n",
    "# AI-K"
   ]
  },
  {
   "cell_type": "code",
   "execution_count": 25,
   "id": "a610f0ff",
   "metadata": {},
   "outputs": [],
   "source": [
    "import pandas as pd\n",
    "import numpy as np\n",
    "import math"
   ]
  },
  {
   "cell_type": "code",
   "execution_count": 4,
   "id": "ea6e159e",
   "metadata": {},
   "outputs": [
    {
     "data": {
      "text/html": [
       "<div>\n",
       "<style scoped>\n",
       "    .dataframe tbody tr th:only-of-type {\n",
       "        vertical-align: middle;\n",
       "    }\n",
       "\n",
       "    .dataframe tbody tr th {\n",
       "        vertical-align: top;\n",
       "    }\n",
       "\n",
       "    .dataframe thead th {\n",
       "        text-align: right;\n",
       "    }\n",
       "</style>\n",
       "<table border=\"1\" class=\"dataframe\">\n",
       "  <thead>\n",
       "    <tr style=\"text-align: right;\">\n",
       "      <th></th>\n",
       "      <th>day</th>\n",
       "      <th>outlook</th>\n",
       "      <th>temp</th>\n",
       "      <th>humidity</th>\n",
       "      <th>wind</th>\n",
       "      <th>play</th>\n",
       "    </tr>\n",
       "  </thead>\n",
       "  <tbody>\n",
       "    <tr>\n",
       "      <th>0</th>\n",
       "      <td>D1</td>\n",
       "      <td>Sunny</td>\n",
       "      <td>Hot</td>\n",
       "      <td>High</td>\n",
       "      <td>Weak</td>\n",
       "      <td>No</td>\n",
       "    </tr>\n",
       "    <tr>\n",
       "      <th>1</th>\n",
       "      <td>D2</td>\n",
       "      <td>Sunny</td>\n",
       "      <td>Hot</td>\n",
       "      <td>High</td>\n",
       "      <td>Strong</td>\n",
       "      <td>No</td>\n",
       "    </tr>\n",
       "    <tr>\n",
       "      <th>2</th>\n",
       "      <td>D3</td>\n",
       "      <td>Overcast</td>\n",
       "      <td>Hot</td>\n",
       "      <td>High</td>\n",
       "      <td>Weak</td>\n",
       "      <td>Yes</td>\n",
       "    </tr>\n",
       "    <tr>\n",
       "      <th>3</th>\n",
       "      <td>D4</td>\n",
       "      <td>Rain</td>\n",
       "      <td>Mild</td>\n",
       "      <td>High</td>\n",
       "      <td>Weak</td>\n",
       "      <td>Yes</td>\n",
       "    </tr>\n",
       "    <tr>\n",
       "      <th>4</th>\n",
       "      <td>D5</td>\n",
       "      <td>Rain</td>\n",
       "      <td>Cool</td>\n",
       "      <td>Normal</td>\n",
       "      <td>Weak</td>\n",
       "      <td>Yes</td>\n",
       "    </tr>\n",
       "    <tr>\n",
       "      <th>5</th>\n",
       "      <td>D6</td>\n",
       "      <td>Rain</td>\n",
       "      <td>Cool</td>\n",
       "      <td>Normal</td>\n",
       "      <td>Strong</td>\n",
       "      <td>No</td>\n",
       "    </tr>\n",
       "    <tr>\n",
       "      <th>6</th>\n",
       "      <td>D7</td>\n",
       "      <td>Overcast</td>\n",
       "      <td>Cool</td>\n",
       "      <td>Normal</td>\n",
       "      <td>Strong</td>\n",
       "      <td>Yes</td>\n",
       "    </tr>\n",
       "    <tr>\n",
       "      <th>7</th>\n",
       "      <td>D8</td>\n",
       "      <td>Sunny</td>\n",
       "      <td>Mild</td>\n",
       "      <td>High</td>\n",
       "      <td>Weak</td>\n",
       "      <td>No</td>\n",
       "    </tr>\n",
       "    <tr>\n",
       "      <th>8</th>\n",
       "      <td>D9</td>\n",
       "      <td>Sunny</td>\n",
       "      <td>Cool</td>\n",
       "      <td>Normal</td>\n",
       "      <td>Weak</td>\n",
       "      <td>Yes</td>\n",
       "    </tr>\n",
       "    <tr>\n",
       "      <th>9</th>\n",
       "      <td>D10</td>\n",
       "      <td>Rain</td>\n",
       "      <td>Mild</td>\n",
       "      <td>Normal</td>\n",
       "      <td>Weak</td>\n",
       "      <td>Yes</td>\n",
       "    </tr>\n",
       "    <tr>\n",
       "      <th>10</th>\n",
       "      <td>D11</td>\n",
       "      <td>Sunny</td>\n",
       "      <td>Mild</td>\n",
       "      <td>Normal</td>\n",
       "      <td>Strong</td>\n",
       "      <td>Yes</td>\n",
       "    </tr>\n",
       "    <tr>\n",
       "      <th>11</th>\n",
       "      <td>D12</td>\n",
       "      <td>Overcast</td>\n",
       "      <td>Mild</td>\n",
       "      <td>High</td>\n",
       "      <td>Strong</td>\n",
       "      <td>Yes</td>\n",
       "    </tr>\n",
       "    <tr>\n",
       "      <th>12</th>\n",
       "      <td>D13</td>\n",
       "      <td>Overcast</td>\n",
       "      <td>Hot</td>\n",
       "      <td>Normal</td>\n",
       "      <td>Weak</td>\n",
       "      <td>Yes</td>\n",
       "    </tr>\n",
       "    <tr>\n",
       "      <th>13</th>\n",
       "      <td>D14</td>\n",
       "      <td>Rain</td>\n",
       "      <td>Mild</td>\n",
       "      <td>High</td>\n",
       "      <td>Strong</td>\n",
       "      <td>No</td>\n",
       "    </tr>\n",
       "  </tbody>\n",
       "</table>\n",
       "</div>"
      ],
      "text/plain": [
       "    day   outlook  temp humidity    wind play\n",
       "0    D1     Sunny   Hot     High    Weak   No\n",
       "1    D2     Sunny   Hot     High  Strong   No\n",
       "2    D3  Overcast   Hot     High    Weak  Yes\n",
       "3    D4      Rain  Mild     High    Weak  Yes\n",
       "4    D5      Rain  Cool   Normal    Weak  Yes\n",
       "5    D6      Rain  Cool   Normal  Strong   No\n",
       "6    D7  Overcast  Cool   Normal  Strong  Yes\n",
       "7    D8     Sunny  Mild     High    Weak   No\n",
       "8    D9     Sunny  Cool   Normal    Weak  Yes\n",
       "9   D10      Rain  Mild   Normal    Weak  Yes\n",
       "10  D11     Sunny  Mild   Normal  Strong  Yes\n",
       "11  D12  Overcast  Mild     High  Strong  Yes\n",
       "12  D13  Overcast   Hot   Normal    Weak  Yes\n",
       "13  D14      Rain  Mild     High  Strong   No"
      ]
     },
     "execution_count": 4,
     "metadata": {},
     "output_type": "execute_result"
    }
   ],
   "source": [
    "tennis_df=pd.read_csv('play_tennis.csv')\n",
    "tennis_df"
   ]
  },
  {
   "cell_type": "code",
   "execution_count": 5,
   "id": "ad8d2022",
   "metadata": {},
   "outputs": [
    {
     "data": {
      "text/html": [
       "<div>\n",
       "<style scoped>\n",
       "    .dataframe tbody tr th:only-of-type {\n",
       "        vertical-align: middle;\n",
       "    }\n",
       "\n",
       "    .dataframe tbody tr th {\n",
       "        vertical-align: top;\n",
       "    }\n",
       "\n",
       "    .dataframe thead th {\n",
       "        text-align: right;\n",
       "    }\n",
       "</style>\n",
       "<table border=\"1\" class=\"dataframe\">\n",
       "  <thead>\n",
       "    <tr style=\"text-align: right;\">\n",
       "      <th></th>\n",
       "      <th>outlook</th>\n",
       "      <th>temp</th>\n",
       "      <th>humidity</th>\n",
       "      <th>wind</th>\n",
       "      <th>play</th>\n",
       "    </tr>\n",
       "  </thead>\n",
       "  <tbody>\n",
       "    <tr>\n",
       "      <th>0</th>\n",
       "      <td>Sunny</td>\n",
       "      <td>Hot</td>\n",
       "      <td>High</td>\n",
       "      <td>Weak</td>\n",
       "      <td>No</td>\n",
       "    </tr>\n",
       "    <tr>\n",
       "      <th>1</th>\n",
       "      <td>Sunny</td>\n",
       "      <td>Hot</td>\n",
       "      <td>High</td>\n",
       "      <td>Strong</td>\n",
       "      <td>No</td>\n",
       "    </tr>\n",
       "    <tr>\n",
       "      <th>2</th>\n",
       "      <td>Overcast</td>\n",
       "      <td>Hot</td>\n",
       "      <td>High</td>\n",
       "      <td>Weak</td>\n",
       "      <td>Yes</td>\n",
       "    </tr>\n",
       "    <tr>\n",
       "      <th>3</th>\n",
       "      <td>Rain</td>\n",
       "      <td>Mild</td>\n",
       "      <td>High</td>\n",
       "      <td>Weak</td>\n",
       "      <td>Yes</td>\n",
       "    </tr>\n",
       "    <tr>\n",
       "      <th>4</th>\n",
       "      <td>Rain</td>\n",
       "      <td>Cool</td>\n",
       "      <td>Normal</td>\n",
       "      <td>Weak</td>\n",
       "      <td>Yes</td>\n",
       "    </tr>\n",
       "    <tr>\n",
       "      <th>5</th>\n",
       "      <td>Rain</td>\n",
       "      <td>Cool</td>\n",
       "      <td>Normal</td>\n",
       "      <td>Strong</td>\n",
       "      <td>No</td>\n",
       "    </tr>\n",
       "    <tr>\n",
       "      <th>6</th>\n",
       "      <td>Overcast</td>\n",
       "      <td>Cool</td>\n",
       "      <td>Normal</td>\n",
       "      <td>Strong</td>\n",
       "      <td>Yes</td>\n",
       "    </tr>\n",
       "    <tr>\n",
       "      <th>7</th>\n",
       "      <td>Sunny</td>\n",
       "      <td>Mild</td>\n",
       "      <td>High</td>\n",
       "      <td>Weak</td>\n",
       "      <td>No</td>\n",
       "    </tr>\n",
       "    <tr>\n",
       "      <th>8</th>\n",
       "      <td>Sunny</td>\n",
       "      <td>Cool</td>\n",
       "      <td>Normal</td>\n",
       "      <td>Weak</td>\n",
       "      <td>Yes</td>\n",
       "    </tr>\n",
       "    <tr>\n",
       "      <th>9</th>\n",
       "      <td>Rain</td>\n",
       "      <td>Mild</td>\n",
       "      <td>Normal</td>\n",
       "      <td>Weak</td>\n",
       "      <td>Yes</td>\n",
       "    </tr>\n",
       "    <tr>\n",
       "      <th>10</th>\n",
       "      <td>Sunny</td>\n",
       "      <td>Mild</td>\n",
       "      <td>Normal</td>\n",
       "      <td>Strong</td>\n",
       "      <td>Yes</td>\n",
       "    </tr>\n",
       "    <tr>\n",
       "      <th>11</th>\n",
       "      <td>Overcast</td>\n",
       "      <td>Mild</td>\n",
       "      <td>High</td>\n",
       "      <td>Strong</td>\n",
       "      <td>Yes</td>\n",
       "    </tr>\n",
       "    <tr>\n",
       "      <th>12</th>\n",
       "      <td>Overcast</td>\n",
       "      <td>Hot</td>\n",
       "      <td>Normal</td>\n",
       "      <td>Weak</td>\n",
       "      <td>Yes</td>\n",
       "    </tr>\n",
       "    <tr>\n",
       "      <th>13</th>\n",
       "      <td>Rain</td>\n",
       "      <td>Mild</td>\n",
       "      <td>High</td>\n",
       "      <td>Strong</td>\n",
       "      <td>No</td>\n",
       "    </tr>\n",
       "  </tbody>\n",
       "</table>\n",
       "</div>"
      ],
      "text/plain": [
       "     outlook  temp humidity    wind play\n",
       "0      Sunny   Hot     High    Weak   No\n",
       "1      Sunny   Hot     High  Strong   No\n",
       "2   Overcast   Hot     High    Weak  Yes\n",
       "3       Rain  Mild     High    Weak  Yes\n",
       "4       Rain  Cool   Normal    Weak  Yes\n",
       "5       Rain  Cool   Normal  Strong   No\n",
       "6   Overcast  Cool   Normal  Strong  Yes\n",
       "7      Sunny  Mild     High    Weak   No\n",
       "8      Sunny  Cool   Normal    Weak  Yes\n",
       "9       Rain  Mild   Normal    Weak  Yes\n",
       "10     Sunny  Mild   Normal  Strong  Yes\n",
       "11  Overcast  Mild     High  Strong  Yes\n",
       "12  Overcast   Hot   Normal    Weak  Yes\n",
       "13      Rain  Mild     High  Strong   No"
      ]
     },
     "execution_count": 5,
     "metadata": {},
     "output_type": "execute_result"
    }
   ],
   "source": [
    "tennis_df=tennis_df.iloc[0: ,1:,]\n",
    "tennis_df"
   ]
  },
  {
   "cell_type": "code",
   "execution_count": 29,
   "id": "0fd8ffc5",
   "metadata": {},
   "outputs": [],
   "source": [
    "def entropy_of_y(y):\n",
    "    H_y = 0\n",
    "#     unique_values=np.unique(y)\n",
    "#     num_unique = len(np.unique(y))\n",
    "    unique_values , num_unique = np.unique(y , return_counts=True)\n",
    "    \n",
    "    for i in num_unique:\n",
    "        H_y += i/(len(y)) * math.log2(i/(len(y)))\n",
    "    return H_y*(-1)"
   ]
  },
  {
   "cell_type": "code",
   "execution_count": 57,
   "id": "d0f93764",
   "metadata": {},
   "outputs": [],
   "source": [
    "def information_gain(x,y):\n",
    "    x=np.array(x)\n",
    "    y=np.array(y)\n",
    "#     unique_values_x=np.unique(x)\n",
    "#     num_unique_x = len(np.unique(x))\n",
    "#     unique_values_y=np.unique(y)\n",
    "#     num_unique_y = len(np.unique(y))\n",
    "    unique_values_x , num_unique_x = np.unique(x , return_counts=True)\n",
    "    unique_values_y , num_unique_y = np.unique(y , return_counts=True)\n",
    "    H_y = entropy_of_y(y)\n",
    "    \n",
    "    yes_counts = []\n",
    "    no_counts  = []\n",
    "    \n",
    "    for j in unique_values_x: \n",
    "        num_yes = 0\n",
    "        num_no  = 0\n",
    "         \n",
    "        for k in range(len(x)):\n",
    "            if j == x[k]:\n",
    "                if  tennis_df['play'][k] == 'Yes':\n",
    "                    num_yes +=1\n",
    "                else:\n",
    "                    num_no+=1\n",
    "        yes_counts.append(num_yes)\n",
    "        no_counts.append(num_no)\n",
    "        \n",
    "    H_x=0\n",
    "    entropies_x=[]\n",
    "    for i in range(len(unique_values_x)):\n",
    "        H_x=0\n",
    "        \n",
    "        if (yes_counts[i]==0):\n",
    "            H_x += -(no_counts[i]/(num_unique_x[i]) *  math.log2(no_counts[i]/(num_unique_x[i])))\n",
    "        elif (no_counts[i]==0):\n",
    "            H_x += -(yes_counts[i]/(num_unique_x[i]) *  math.log2(yes_counts[i]/(num_unique_x[i])))\n",
    "            \n",
    "        else:\n",
    "            H_x += -(yes_counts[i]/(num_unique_x[i]) *  math.log2(yes_counts[i]/(num_unique_x[i])))\n",
    "            H_x += -(no_counts[i]/(num_unique_x[i]) *  math.log2(no_counts[i]/(num_unique_x[i])))\n",
    "        \n",
    "        entropies_x.append(H_x)\n",
    "    H_total=0\n",
    "    for i in range(len(num_unique_x)):\n",
    "        H_total += entropies_x[i] * (num_unique_x[i]/len(y))\n",
    "    \n",
    "    return H_y - H_total"
   ]
  },
  {
   "cell_type": "markdown",
   "id": "6d3880ca",
   "metadata": {},
   "source": [
    "### Information Gains"
   ]
  },
  {
   "cell_type": "code",
   "execution_count": 58,
   "id": "9de55823",
   "metadata": {},
   "outputs": [],
   "source": [
    "info_gain_features=[0]*4"
   ]
  },
  {
   "cell_type": "code",
   "execution_count": 59,
   "id": "3bfa8fbc",
   "metadata": {},
   "outputs": [],
   "source": [
    "info_gain_features[0] = information_gain(tennis_df['outlook'] , tennis_df['play'])\n",
    "info_gain_features[1] = information_gain(tennis_df['temp'] , tennis_df['play'])\n",
    "info_gain_features[2] = information_gain(tennis_df['humidity'] , tennis_df['play'])\n",
    "info_gain_features[3] = information_gain(tennis_df['wind'] , tennis_df['play'])"
   ]
  },
  {
   "cell_type": "code",
   "execution_count": 67,
   "id": "cf1c411b",
   "metadata": {},
   "outputs": [
    {
     "name": "stdout",
     "output_type": "stream",
     "text": [
      "The information Gain of outlook  :  0.24674981977443933\n",
      "The information Gain of temp  :  0.02922256565895487\n",
      "The information Gain of humidity  :  0.15183550136234159\n",
      "The information Gain of wind  :  0.04812703040826949\n"
     ]
    }
   ],
   "source": [
    "col=tennis_df.columns\n",
    "for i in range(len(info_gain_features)):\n",
    "    print(\"The information Gain of \",end=\"\")\n",
    "    print(col[i], \" : \",info_gain_features[i])"
   ]
  },
  {
   "cell_type": "markdown",
   "id": "9f035138",
   "metadata": {},
   "source": [
    "#### Splitting Data"
   ]
  },
  {
   "cell_type": "code",
   "execution_count": 81,
   "id": "02043418",
   "metadata": {},
   "outputs": [],
   "source": [
    "outlook_df=[]\n",
    "for i in tennis_df['outlook'].unique():\n",
    "    outlook_df.append(tennis_df[tennis_df['outlook']==i])\n",
    "\n",
    "temp_df=[]\n",
    "for i in outlook_df[0]['temp'].unique():\n",
    "    temp_df.append(outlook_df[0][outlook_df[0]['temp']==i])\n",
    "\n",
    "wind_df=[]\n",
    "for i in outlook_df[2]['wind'].unique():\n",
    "    wind_df.append(outlook_df[2][outlook_df[2]['wind']==i])"
   ]
  },
  {
   "cell_type": "code",
   "execution_count": 85,
   "id": "0bcfefb0",
   "metadata": {},
   "outputs": [],
   "source": [
    "information_gain_outlook=[0]*6\n",
    "information_gain_outlook[0] = information_gain((outlook_df[0]['temp']) , (outlook_df[0]['play']))\n",
    "information_gain_outlook[1] = information_gain((outlook_df[0]['humidity']) , (outlook_df[0]['play']))\n",
    "information_gain_outlook[2] = information_gain((outlook_df[0]['wind']) , (outlook_df[0]['play']))\n",
    "\n",
    "information_gain_outlook[3] = information_gain((outlook_df[2]['temp']) , (outlook_df[2]['play']))\n",
    "information_gain_outlook[4] = information_gain((outlook_df[2]['humidity']) , (outlook_df[2]['play']))\n",
    "information_gain_outlook[5] = information_gain((outlook_df[2]['wind']) , (outlook_df[2]['play']))"
   ]
  },
  {
   "cell_type": "code",
   "execution_count": 83,
   "id": "52f018a3",
   "metadata": {},
   "outputs": [],
   "source": [
    "information_gain_temp=[0]*2\n",
    "information_gain_temp[0] = information_gain((temp_df[1]['humidity']) , (temp_df[1]['play']))\n",
    "information_gain_temp[1] = information_gain((temp_df[1]['wind']) , (temp_df[1]['play']))"
   ]
  },
  {
   "cell_type": "markdown",
   "id": "4201d77f",
   "metadata": {},
   "source": [
    "## Predict"
   ]
  },
  {
   "cell_type": "code",
   "execution_count": 88,
   "id": "ae006e95",
   "metadata": {},
   "outputs": [],
   "source": [
    "def predict (features):\n",
    "    label = 0\n",
    "    if features[0]=='Overcast':\n",
    "        label = 'Yes'\n",
    "    elif features[0] == 'Rain':\n",
    "        if features[3] == 'Weak':\n",
    "            label='Yes'\n",
    "        elif features[3] == 'Strong':\n",
    "            label='No'\n",
    "    elif features[0] == 'Sunny':\n",
    "        if features[2] == 'High':\n",
    "            label = 'No'\n",
    "        elif features[2] == 'Normal':\n",
    "            label = 'Yes'\n",
    "    return label"
   ]
  },
  {
   "cell_type": "code",
   "execution_count": 90,
   "id": "71167482",
   "metadata": {},
   "outputs": [
    {
     "data": {
      "text/plain": [
       "'Yes'"
      ]
     },
     "execution_count": 90,
     "metadata": {},
     "output_type": "execute_result"
    }
   ],
   "source": [
    "feat=['Overcast' , 'Hot' , 'High' , 'Weak']\n",
    "pred=predict (feat)\n",
    "pred"
   ]
  },
  {
   "cell_type": "markdown",
   "id": "ec81317f",
   "metadata": {},
   "source": [
    "## Task 02"
   ]
  },
  {
   "cell_type": "markdown",
   "id": "e43dc196",
   "metadata": {},
   "source": [
    "#### A classification algorithm that works well for binary and multiclass classification is called Naive Bayes. Compared to numerical input variables, naive Bayes performs better in cases of categorical input variables. It is helpful for anticipating data and making predictions based on past performance.\n",
    "\n",
    "\n",
    "#### Decision trees can be applied to categorical and numerical data. You can assess your possibilities with the use of decision trees. Decision trees are great tools for assisting you in selecting one course of action over others."
   ]
  },
  {
   "cell_type": "markdown",
   "id": "0cdaf932",
   "metadata": {},
   "source": [
    "### Rough Work"
   ]
  },
  {
   "cell_type": "code",
   "execution_count": 54,
   "id": "534abe4d",
   "metadata": {},
   "outputs": [
    {
     "data": {
      "text/plain": [
       "2"
      ]
     },
     "execution_count": 54,
     "metadata": {},
     "output_type": "execute_result"
    }
   ],
   "source": [
    "len(np.unique((np.array(tennis_df[\"play\"]))))"
   ]
  },
  {
   "cell_type": "code",
   "execution_count": 20,
   "id": "1750fe4a",
   "metadata": {},
   "outputs": [],
   "source": [
    "y=np.array(tennis_df[\"play\"])"
   ]
  },
  {
   "cell_type": "code",
   "execution_count": 24,
   "id": "81966a59",
   "metadata": {},
   "outputs": [
    {
     "ename": "ValueError",
     "evalue": "math domain error",
     "output_type": "error",
     "traceback": [
      "\u001b[1;31m---------------------------------------------------------------------------\u001b[0m",
      "\u001b[1;31mValueError\u001b[0m                                Traceback (most recent call last)",
      "Input \u001b[1;32mIn [24]\u001b[0m, in \u001b[0;36m<cell line: 5>\u001b[1;34m()\u001b[0m\n\u001b[0;32m      3\u001b[0m num_unique \u001b[38;5;241m=\u001b[39m \u001b[38;5;28mlen\u001b[39m(np\u001b[38;5;241m.\u001b[39munique(y))\n\u001b[0;32m      5\u001b[0m \u001b[38;5;28;01mfor\u001b[39;00m i \u001b[38;5;129;01min\u001b[39;00m \u001b[38;5;28mrange\u001b[39m(num_unique):\n\u001b[1;32m----> 6\u001b[0m     H_y \u001b[38;5;241m+\u001b[39m\u001b[38;5;241m=\u001b[39m i\u001b[38;5;241m/\u001b[39m(\u001b[38;5;28mlen\u001b[39m(y)) \u001b[38;5;241m*\u001b[39m \u001b[43mmath\u001b[49m\u001b[38;5;241;43m.\u001b[39;49m\u001b[43mlog2\u001b[49m\u001b[43m(\u001b[49m\u001b[43mi\u001b[49m\u001b[38;5;241;43m/\u001b[39;49m\u001b[43m(\u001b[49m\u001b[38;5;28;43mlen\u001b[39;49m\u001b[43m(\u001b[49m\u001b[43my\u001b[49m\u001b[43m)\u001b[49m\u001b[43m)\u001b[49m\u001b[43m)\u001b[49m\n",
      "\u001b[1;31mValueError\u001b[0m: math domain error"
     ]
    }
   ],
   "source": [
    "H_y=0\n",
    "unique_values=np.unique(y)\n",
    "num_unique = len(np.unique(y))\n",
    "\n",
    "for i in range(num_unique):\n",
    "    H_y += i/(len(y)) * math.log2(i/(len(y)))"
   ]
  },
  {
   "cell_type": "code",
   "execution_count": 26,
   "id": "06520e7e",
   "metadata": {},
   "outputs": [],
   "source": [
    "unique , counts = np.unique(y , return_counts=True)"
   ]
  },
  {
   "cell_type": "code",
   "execution_count": 27,
   "id": "e7d0c322",
   "metadata": {},
   "outputs": [
    {
     "data": {
      "text/plain": [
       "array([5, 9], dtype=int64)"
      ]
     },
     "execution_count": 27,
     "metadata": {},
     "output_type": "execute_result"
    }
   ],
   "source": [
    "counts"
   ]
  },
  {
   "cell_type": "code",
   "execution_count": 28,
   "id": "9066d670",
   "metadata": {},
   "outputs": [
    {
     "data": {
      "text/plain": [
       "array(['No', 'Yes'], dtype=object)"
      ]
     },
     "execution_count": 28,
     "metadata": {},
     "output_type": "execute_result"
    }
   ],
   "source": [
    "unique"
   ]
  },
  {
   "cell_type": "code",
   "execution_count": null,
   "id": "a711dd02",
   "metadata": {},
   "outputs": [],
   "source": []
  }
 ],
 "metadata": {
  "kernelspec": {
   "display_name": "Python 3 (ipykernel)",
   "language": "python",
   "name": "python3"
  },
  "language_info": {
   "codemirror_mode": {
    "name": "ipython",
    "version": 3
   },
   "file_extension": ".py",
   "mimetype": "text/x-python",
   "name": "python",
   "nbconvert_exporter": "python",
   "pygments_lexer": "ipython3",
   "version": "3.9.13"
  }
 },
 "nbformat": 4,
 "nbformat_minor": 5
}

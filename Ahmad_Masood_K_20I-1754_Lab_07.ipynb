{
 "cells": [
  {
   "cell_type": "markdown",
   "id": "4013e222",
   "metadata": {},
   "source": []
  },
  {
   "cell_type": "code",
   "execution_count": 50,
   "id": "ebdbbfa9",
   "metadata": {},
   "outputs": [],
   "source": [
    "from collections import defaultdict \n",
    "from collections import Counter"
   ]
  },
  {
   "cell_type": "code",
   "execution_count": 51,
   "id": "596a85be",
   "metadata": {},
   "outputs": [],
   "source": [
    "pos_sen = \"I love mangoes Mangoes are a lot tastier than other fruits I like mangoes because they are good Apples are good too but I prefer mangoes People say mango is the king of fruit so that is why mangoes are good Mangoes are good because they are juicy\"\n",
    "neg_sen = \"Eating too many mangoes can have a negative impact on your health Mangoes are good but not too good I like apples more than mangoes I don’t like mangoes because they are expensive Mangoes are not good I don’t like mangoes\""
   ]
  },
  {
   "cell_type": "code",
   "execution_count": 52,
   "id": "b82d3996",
   "metadata": {},
   "outputs": [],
   "source": [
    "count_pos= Counter(pos_sen.lower().split())\n",
    "count_neg=Counter(neg_sen.lower().split())"
   ]
  },
  {
   "cell_type": "code",
   "execution_count": 58,
   "id": "c36fbb04",
   "metadata": {},
   "outputs": [],
   "source": [
    "def pos_fun():\n",
    "    positive=(0+1)/(my_voc_len+len(pos_sen.lower().split()))\n",
    "    return positive\n",
    "\n",
    "def neg_fun():\n",
    "    negative=(0+1)/(my_voc_len+len(neg_sen.lower().split()))\n",
    "    return negative\n",
    "\n",
    "def freq_fun(freq , my_voc_len , len_sen):\n",
    "    frequency=(freq+1)/(my_voc_len+len_sen)\n",
    "    return frequency"
   ]
  },
  {
   "cell_type": "code",
   "execution_count": 59,
   "id": "41a2350d",
   "metadata": {},
   "outputs": [],
   "source": [
    "positive_dic = defaultdict (pos_fun)\n",
    "negative_dic = defaultdict (neg_fun)"
   ]
  },
  {
   "cell_type": "code",
   "execution_count": 60,
   "id": "0c797058",
   "metadata": {},
   "outputs": [],
   "source": [
    "my_voc_len=len(Counter((pos_sen + ' ' + neg_sen).lower().split()))"
   ]
  },
  {
   "cell_type": "code",
   "execution_count": 61,
   "id": "f1a9a839",
   "metadata": {},
   "outputs": [],
   "source": [
    "def training_data():\n",
    "    for i,j in count_pos.items():\n",
    "        positive_dic[i] = freq_fun(j , my_voc_len , len(pos_sen.lower().split()))\n",
    "    \n",
    "    for i,j in count_neg.items():\n",
    "        negative_dic[i] = freq_fun(j , my_voc_len , len(neg_sen.lower().split()))"
   ]
  },
  {
   "cell_type": "code",
   "execution_count": 62,
   "id": "4b9f8e63",
   "metadata": {},
   "outputs": [],
   "source": [
    "training_data()"
   ]
  },
  {
   "cell_type": "code",
   "execution_count": 63,
   "id": "67e03b83",
   "metadata": {},
   "outputs": [],
   "source": [
    "def testing_data(sentence):\n",
    "    sentence=sentence.lower().split()\n",
    "    result_p = 6/11\n",
    "    result_n = 5/11\n",
    "    \n",
    "    for i in sentence:\n",
    "        result_p =result_p* positive_dic[i]\n",
    "        result_n =result_n* negative_dic[i]\n",
    "      \n",
    "    print(result_p)\n",
    "    print(result_n)\n",
    "    if result_p > result_n:\n",
    "        print(\"Positive\")\n",
    "    else:\n",
    "        print(\"Negative\")"
   ]
  },
  {
   "cell_type": "code",
   "execution_count": 64,
   "id": "aeb609d7",
   "metadata": {},
   "outputs": [
    {
     "name": "stdout",
     "output_type": "stream",
     "text": [
      "5.7906107900069995e-06\n",
      "3.067605108421435e-06\n",
      "Positive\n"
     ]
    }
   ],
   "source": [
    "testing_data('i eat mango')"
   ]
  },
  {
   "cell_type": "code",
   "execution_count": 65,
   "id": "18672075",
   "metadata": {},
   "outputs": [
    {
     "name": "stdout",
     "output_type": "stream",
     "text": [
      "5.066784441256124e-06\n",
      "5.368308939737511e-06\n",
      "Negative\n"
     ]
    }
   ],
   "source": [
    "testing_data('Ahmad hates mangoes')"
   ]
  },
  {
   "cell_type": "code",
   "execution_count": 66,
   "id": "e6a9b6d6",
   "metadata": {},
   "outputs": [
    {
     "name": "stdout",
     "output_type": "stream",
     "text": [
      "0.00046107738415430727\n",
      "0.0009018759018759018\n",
      "Negative\n"
     ]
    }
   ],
   "source": [
    "testing_data('negative mangoes')"
   ]
  },
  {
   "cell_type": "code",
   "execution_count": 67,
   "id": "b3a112ae",
   "metadata": {},
   "outputs": [
    {
     "name": "stdout",
     "output_type": "stream",
     "text": [
      "0.005994005994005994\n",
      "0.005411255411255411\n",
      "Positive\n"
     ]
    }
   ],
   "source": [
    "testing_data(\"faizan\")"
   ]
  },
  {
   "cell_type": "code",
   "execution_count": null,
   "id": "461125a9",
   "metadata": {},
   "outputs": [],
   "source": []
  }
 ],
 "metadata": {
  "kernelspec": {
   "display_name": "Python 3 (ipykernel)",
   "language": "python",
   "name": "python3"
  },
  "language_info": {
   "codemirror_mode": {
    "name": "ipython",
    "version": 3
   },
   "file_extension": ".py",
   "mimetype": "text/x-python",
   "name": "python",
   "nbconvert_exporter": "python",
   "pygments_lexer": "ipython3",
   "version": "3.9.13"
  }
 },
 "nbformat": 4,
 "nbformat_minor": 5
}
